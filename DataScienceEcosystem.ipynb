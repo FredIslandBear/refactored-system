{
 "cells": [
  {
   "cell_type": "markdown",
   "id": "d55c442a-b1b3-423c-94f9-f84b7c1b183f",
   "metadata": {
    "tags": []
   },
   "source": [
    "# Data Science Tools and Ecosystem"
   ]
  },
  {
   "cell_type": "markdown",
   "id": "6ba3b714-da6a-4469-a589-18e5e351ac90",
   "metadata": {},
   "source": [
    "In this notebook, Data Science Tools and Ecosystem are summarized."
   ]
  },
  {
   "cell_type": "markdown",
   "id": "dd54b1ce-32cf-4c62-ba56-e4a7ad8c5147",
   "metadata": {},
   "source": [
    "**Objectives:**\n",
    "1. List popular language for data science\n",
    "2. List popular libraries for data science\n",
    "3. List popular data science tools\n",
    "4. Test arithmetic expression\n",
    "5. Convert minutes to hours\n"
   ]
  },
  {
   "cell_type": "markdown",
   "id": "3c9220c4-cb95-430a-ad1f-806447602fb6",
   "metadata": {},
   "source": [
    "Some of the popular languages that Data Scientists use are:\n",
    "1. Python\n",
    "2. R\n",
    "3. SQL"
   ]
  },
  {
   "cell_type": "markdown",
   "id": "737fc960-5ac5-48d0-b74b-c45bc8a540be",
   "metadata": {},
   "source": [
    "Some of the commonly used libraries used by Data Scientists include:\n",
    "\n",
    "1. Pandas\n",
    "2. Matplotlib\n",
    "3. Numpy\n",
    "4. Seaborn"
   ]
  },
  {
   "cell_type": "markdown",
   "id": "c715fae1-b094-4991-80b3-f3fb9e432210",
   "metadata": {},
   "source": [
    "| Data Science Tools       |\n",
    "|--------------------------|\n",
    "| Jupyter Notebook         |\n",
    "| RStudio                  |\n",
    "| Apache Zeppelin          |\n"
   ]
  },
  {
   "cell_type": "markdown",
   "id": "49674161-b19e-43eb-bfa5-55dab0aa3f9f",
   "metadata": {
    "tags": []
   },
   "source": [
    "### Below are a few examples of evaluating arithmetic expressions in Python"
   ]
  },
  {
   "cell_type": "code",
   "execution_count": 2,
   "id": "7e2679cc-d170-4d17-8231-3d054b9842f8",
   "metadata": {
    "tags": []
   },
   "outputs": [
    {
     "data": {
      "text/plain": [
       "17"
      ]
     },
     "execution_count": 2,
     "metadata": {},
     "output_type": "execute_result"
    }
   ],
   "source": [
    "#This a simple arithmetic expression to mutiply then add integers.\n",
    "(3*4)+5"
   ]
  },
  {
   "cell_type": "code",
   "execution_count": 3,
   "id": "c2e6c64f-ee21-4b46-8696-70f2e67c1c3b",
   "metadata": {
    "tags": []
   },
   "outputs": [
    {
     "data": {
      "text/plain": [
       "3.3333333333333335"
      ]
     },
     "execution_count": 3,
     "metadata": {},
     "output_type": "execute_result"
    }
   ],
   "source": [
    "#This will convert 200 minutes to hours by diving by 60\n",
    "minutes=200\n",
    "hours=minutes/60\n",
    "hours"
   ]
  },
  {
   "cell_type": "markdown",
   "id": "7b0ef727-4f16-4865-a837-aa0d1aa61f56",
   "metadata": {},
   "source": [
    "## Author\n",
    "Federico Mezzero"
   ]
  },
  {
   "cell_type": "code",
   "execution_count": null,
   "id": "c30bf264-c2c2-4165-81d2-ccabbcc34746",
   "metadata": {},
   "outputs": [],
   "source": []
  }
 ],
 "metadata": {
  "kernelspec": {
   "display_name": "Python 3 (ipykernel)",
   "language": "python",
   "name": "python3"
  },
  "language_info": {
   "codemirror_mode": {
    "name": "ipython",
    "version": 3
   },
   "file_extension": ".py",
   "mimetype": "text/x-python",
   "name": "python",
   "nbconvert_exporter": "python",
   "pygments_lexer": "ipython3",
   "version": "3.11.4"
  }
 },
 "nbformat": 4,
 "nbformat_minor": 5
}
